{
 "cells": [
  {
   "cell_type": "markdown",
   "id": "5c323dcb-7be1-4ec9-a757-6bb693719fe5",
   "metadata": {},
   "source": [
    "# Data Science Tools and Ecosystem"
   ]
  },
  {
   "cell_type": "markdown",
   "id": "58b9b9e4-5a76-41c7-9e3f-605afe40a83a",
   "metadata": {},
   "source": [
    "In this notebook, Data Science Tools and Ecosystem are summarized.\r\n"
   ]
  },
  {
   "cell_type": "markdown",
   "id": "58477257-27ef-4fde-bd6d-942985a905d8",
   "metadata": {},
   "source": [
    "Some of the popular languages that Data Scientists use are:\r",
    "1. Julia\n",
    "2. Python\n",
    "3. R\n"
   ]
  },
  {
   "cell_type": "markdown",
   "id": "df55f646-ab18-4774-b856-1abad2b573d9",
   "metadata": {},
   "source": [
    "Some of the commonly used libraries used by Data Scientists include:\r",
    "1. matplotlib\n",
    "2. numpy\n",
    "3. ggplot\n"
   ]
  },
  {
   "cell_type": "markdown",
   "id": "918faa68-61f9-468c-8608-25928ca01d95",
   "metadata": {},
   "source": [
    "|Data Science Tools|\n",
    "--------------------\n",
    "|Jupyter Notebooks|\n",
    "|Visual Studio|\n",
    "|RStudio|"
   ]
  },
  {
   "cell_type": "markdown",
   "id": "dbf2ec65-7658-4925-8f0c-cd36a606af18",
   "metadata": {},
   "source": [
    "### Below are a few examples of evaluating arithmetic expressions in Python.\r",
    "2+3\r\n"
   ]
  },
  {
   "cell_type": "markdown",
   "id": "f0935fff-d599-46d9-b436-775f2c409646",
   "metadata": {},
   "source": [
    "4-7"
   ]
  },
  {
   "cell_type": "markdown",
   "id": "7f823681-0d2c-4d32-9caa-1d38a8ff60b0",
   "metadata": {},
   "source": [
    "4*12"
   ]
  },
  {
   "cell_type": "markdown",
   "id": "090a3759-5ddb-4ee3-91d3-db74cca9e4ee",
   "metadata": {},
   "source": [
    "This a simple arithmetic expression to mutiply then add integers"
   ]
  },
  {
   "cell_type": "code",
   "execution_count": 21,
   "id": "50aaa6f4-8558-47b3-b702-7030765671e0",
   "metadata": {},
   "outputs": [
    {
     "data": {
      "text/plain": [
       "17"
      ]
     },
     "execution_count": 21,
     "metadata": {},
     "output_type": "execute_result"
    }
   ],
   "source": [
    "(3*4)+5"
   ]
  },
  {
   "cell_type": "markdown",
   "id": "2d671c1d-711c-4b7d-ae48-caed2089a3d9",
   "metadata": {},
   "source": [
    "#### This will convert 200 minutes to hours by diving by 60"
   ]
  },
  {
   "cell_type": "code",
   "execution_count": 30,
   "id": "ee1d2812-9e1d-4c05-888e-4273d1192355",
   "metadata": {},
   "outputs": [
    {
     "data": {
      "text/plain": [
       "(3.3333333333333335, 20)"
      ]
     },
     "execution_count": 30,
     "metadata": {},
     "output_type": "execute_result"
    }
   ],
   "source": [
    "min = 200\n",
    "hour = 200/60\n",
    "mins = 200%60\n",
    "hour, mins"
   ]
  },
  {
   "cell_type": "markdown",
   "id": "bb0a9162-21b3-4363-9c01-1d5bbfa12d18",
   "metadata": {},
   "source": [
    "### **Objectives**\n",
    "- Listing tools for development\n",
    "- Listing Languages\n",
    "- Practicing Markdowns\n",
    "- Arithmetic Expressions"
   ]
  },
  {
   "cell_type": "markdown",
   "id": "5637d71e-ddd3-42d1-a72f-5b5cdcdfbf15",
   "metadata": {},
   "source": [
    "## Author\n",
    "Ishita Singh"
   ]
  },
  {
   "cell_type": "code",
   "execution_count": null,
   "id": "04809ab3-1893-4120-be36-8c17654f1aac",
   "metadata": {},
   "outputs": [],
   "source": []
  }
 ],
 "metadata": {
  "kernelspec": {
   "display_name": "Python 3 (ipykernel)",
   "language": "python",
   "name": "python3"
  },
  "language_info": {
   "codemirror_mode": {
    "name": "ipython",
    "version": 3
   },
   "file_extension": ".py",
   "mimetype": "text/x-python",
   "name": "python",
   "nbconvert_exporter": "python",
   "pygments_lexer": "ipython3",
   "version": "3.12.4"
  }
 },
 "nbformat": 4,
 "nbformat_minor": 5
}
